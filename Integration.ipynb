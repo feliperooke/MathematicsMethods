{
  "nbformat": 4,
  "nbformat_minor": 0,
  "metadata": {
    "colab": {
      "name": "Integrações.ipynb",
      "provenance": [],
      "collapsed_sections": [],
      "mount_file_id": "1vB5Wpd4bOuskknk063euLZV6nUCXHr9_",
      "authorship_tag": "ABX9TyPU3MAek5mpxmysLq73kAoe"
    },
    "kernelspec": {
      "name": "python3",
      "display_name": "Python 3"
    },
    "language_info": {
      "name": "python"
    }
  },
  "cells": [
    {
      "cell_type": "markdown",
      "metadata": {
        "id": "oEQc1eFyJRDt"
      },
      "source": [
        "###Inicializações"
      ]
    },
    {
      "cell_type": "code",
      "metadata": {
        "id": "VjYzbmGmZjRU",
        "colab": {
          "base_uri": "https://localhost:8080/"
        },
        "outputId": "2d0fea45-5bee-4cca-ca79-48d0828be6aa"
      },
      "source": [
        "%cd /content/drive/MyDrive/Doutorado/Métodos\\ Matemáticos"
      ],
      "execution_count": 1,
      "outputs": [
        {
          "output_type": "stream",
          "text": [
            "/content/drive/MyDrive/Doutorado/Métodos Matemáticos\n"
          ],
          "name": "stdout"
        }
      ]
    },
    {
      "cell_type": "code",
      "metadata": {
        "id": "tc1K1PbIZpEV"
      },
      "source": [
        "# !wget https://raw.githubusercontent.com/sympy/sympy_gamma/master/app/logic/intsteps.py\n",
        "# !wget https://raw.githubusercontent.com/sympy/sympy_gamma/master/app/logic/diffsteps.py"
      ],
      "execution_count": null,
      "outputs": []
    },
    {
      "cell_type": "markdown",
      "metadata": {
        "id": "SZhvoZqSJb5A"
      },
      "source": [
        "## Integral"
      ]
    },
    {
      "cell_type": "code",
      "metadata": {
        "id": "m0IyEJ6PIR_T"
      },
      "source": [
        "import sympy as sym\n",
        "from sympy import latex, pi, sin, asin, Integral, Matrix, Rational, log\n",
        "import numpy as np\n",
        "from IPython.display import display, Markdown, Latex, HTML\n",
        "from sympy.integrals.manualintegrate import manualintegrate, integral_steps\n",
        "\n",
        "\n",
        "\n",
        "# display(Markdown(f\"### Gaus:\"))\n",
        "\n",
        "def printeq(v):\n",
        "  display(Latex(latex(v)))"
      ],
      "execution_count": 3,
      "outputs": []
    },
    {
      "cell_type": "code",
      "metadata": {
        "colab": {
          "base_uri": "https://localhost:8080/"
        },
        "id": "ZkmNnOLaRMPN",
        "outputId": "61de1ca7-2002-4d28-a185-6e34583588ed"
      },
      "source": [
        "sym.init_printing()\n",
        "x,y,z = sym.symbols('x,y,z')\n",
        "\n",
        "manualintegrate(1 / x*y, x)\n",
        "\n",
        "integral_steps(x*sin(3*x), x)"
      ],
      "execution_count": 4,
      "outputs": [
        {
          "output_type": "execute_result",
          "data": {
            "text/plain": [
              "PartsRule(u=x, dv=sin(3*x), v_step=URule(u_var=_u, u_func=3*x, constant=1/3, substep=ConstantTimesRule(constant=1/3, other=sin(_u), substep=TrigRule(func='sin', arg=_u, context=sin(_u), symbol=_u), context=sin(_u), symbol=_u), context=sin(3*x), symbol=x), second_step=ConstantTimesRule(constant=-1/3, other=cos(3*x), substep=URule(u_var=_u, u_func=3*x, constant=1/3, substep=ConstantTimesRule(constant=1/3, other=cos(_u), substep=TrigRule(func='cos', arg=_u, context=cos(_u), symbol=_u), context=cos(_u), symbol=_u), context=cos(3*x), symbol=x), context=-cos(3*x)/3, symbol=x), context=x*sin(3*x), symbol=x)"
            ]
          },
          "metadata": {
            "tags": []
          },
          "execution_count": 4
        }
      ]
    },
    {
      "cell_type": "code",
      "metadata": {
        "colab": {
          "base_uri": "https://localhost:8080/",
          "height": 1000
        },
        "id": "cKbJFHxbZEo_",
        "outputId": "ccf91112-c7b3-4084-99a2-36dda26ba692"
      },
      "source": [
        "import intsteps\n",
        "display(Markdown(intsteps.print_html_steps(sym.integrate(y**2+x*sin(3*x),x), x)))"
      ],
      "execution_count": 8,
      "outputs": [
        {
          "output_type": "display_data",
          "data": {
            "text/markdown": "<ol>\n <li>\n <p>Integrate term-by-term:</p>\n <ol>\n <li>\n <p>The integral of a constant times a function is the constant times the integral of the function:</p>\n <p> $\\int x y^{2}\\, dx = y^{2} \\int x\\, dx$ </p>\n <ol>\n <li>\n <p>The integral of  $x^{n}$  is  $\\frac{x^{n + 1}}{n + 1}$  when  $n \\neq -1$ :</p>\n <p> $\\int x\\, dx = \\frac{x^{2}}{2}$ </p>\n </li>\n </ol>\n <p>So, the result is:  $\\frac{x^{2} y^{2}}{2}$ </p>\n </li>\n </ol>\n <ol>\n <li>\n <p>The integral of a constant times a function is the constant times the integral of the function:</p>\n <p> $\\int \\left(- \\frac{x \\cos{\\left(3 x \\right)}}{3}\\right)\\, dx = - \\frac{\\int x \\cos{\\left(3 x \\right)}\\, dx}{3}$ </p>\n <ol>\n <li>\n <p>Use integration by parts:</p>\n <p> $\\int \\operatorname{u} \\operatorname{dv} = \\operatorname{u}\\operatorname{v} - \\int \\operatorname{v} \\operatorname{du}$ </p>\n <p>Let  $u{\\left(x \\right)} = x$  and let  $\\operatorname{dv}{\\left(x \\right)} = \\cos{\\left(3 x \\right)}$ .</p>\n <p>Then  $\\operatorname{du}{\\left(x \\right)} = 1$ .</p>\n <p>To find  $v{\\left(x \\right)}$ :</p>\n <ol>\n <li>\n <p>Let  $u = 3 x$ .</p>\n <p>Then let  $du = 3 dx$  and substitute  $\\frac{du}{3}$ :</p>\n <p> $\\int \\frac{\\cos{\\left(u \\right)}}{3}\\, du$ </p>\n <ol>\n <li>\n <p>The integral of a constant times a function is the constant times the integral of the function:</p>\n <p> $\\int \\cos{\\left(u \\right)}\\, du = \\frac{\\int \\cos{\\left(u \\right)}\\, du}{3}$ </p>\n <ol>\n <li>\n <p>The integral of cosine is sine:</p>\n <p> $\\int \\cos{\\left(u \\right)}\\, du = \\sin{\\left(u \\right)}$ </p>\n </li>\n </ol>\n <p>So, the result is:  $\\frac{\\sin{\\left(u \\right)}}{3}$ </p>\n </li>\n </ol>\n <p>Now substitute  $u$  back in:</p>\n <p> $\\frac{\\sin{\\left(3 x \\right)}}{3}$ </p>\n </li>\n </ol>\n <p>Now evaluate the sub-integral.</p>\n <li>\n <p>The integral of a constant times a function is the constant times the integral of the function:</p>\n <p> $\\int \\frac{\\sin{\\left(3 x \\right)}}{3}\\, dx = \\frac{\\int \\sin{\\left(3 x \\right)}\\, dx}{3}$ </p>\n <ol>\n <li>\n <p>Let  $u = 3 x$ .</p>\n <p>Then let  $du = 3 dx$  and substitute  $\\frac{du}{3}$ :</p>\n <p> $\\int \\frac{\\sin{\\left(u \\right)}}{3}\\, du$ </p>\n <ol>\n <li>\n <p>The integral of a constant times a function is the constant times the integral of the function:</p>\n <p> $\\int \\sin{\\left(u \\right)}\\, du = \\frac{\\int \\sin{\\left(u \\right)}\\, du}{3}$ </p>\n <ol>\n <li>\n <p>The integral of sine is negative cosine:</p>\n <p> $\\int \\sin{\\left(u \\right)}\\, du = - \\cos{\\left(u \\right)}$ </p>\n </li>\n </ol>\n <p>So, the result is:  $- \\frac{\\cos{\\left(u \\right)}}{3}$ </p>\n </li>\n </ol>\n <p>Now substitute  $u$  back in:</p>\n <p> $- \\frac{\\cos{\\left(3 x \\right)}}{3}$ </p>\n </li>\n </ol>\n <p>So, the result is:  $- \\frac{\\cos{\\left(3 x \\right)}}{9}$ </p>\n </li>\n </li>\n </ol>\n <p>So, the result is:  $- \\frac{x \\sin{\\left(3 x \\right)}}{9} - \\frac{\\cos{\\left(3 x \\right)}}{27}$ </p>\n </li>\n </ol>\n <ol>\n <li>\n <p>The integral of a constant times a function is the constant times the integral of the function:</p>\n <p> $\\int \\frac{\\sin{\\left(3 x \\right)}}{9}\\, dx = \\frac{\\int \\sin{\\left(3 x \\right)}\\, dx}{9}$ </p>\n <ol>\n <li>\n <p>Let  $u = 3 x$ .</p>\n <p>Then let  $du = 3 dx$  and substitute  $\\frac{du}{3}$ :</p>\n <p> $\\int \\frac{\\sin{\\left(u \\right)}}{3}\\, du$ </p>\n <ol>\n <li>\n <p>The integral of a constant times a function is the constant times the integral of the function:</p>\n <p> $\\int \\sin{\\left(u \\right)}\\, du = \\frac{\\int \\sin{\\left(u \\right)}\\, du}{3}$ </p>\n <ol>\n <li>\n <p>The integral of sine is negative cosine:</p>\n <p> $\\int \\sin{\\left(u \\right)}\\, du = - \\cos{\\left(u \\right)}$ </p>\n </li>\n </ol>\n <p>So, the result is:  $- \\frac{\\cos{\\left(u \\right)}}{3}$ </p>\n </li>\n </ol>\n <p>Now substitute  $u$  back in:</p>\n <p> $- \\frac{\\cos{\\left(3 x \\right)}}{3}$ </p>\n </li>\n </ol>\n <p>So, the result is:  $- \\frac{\\cos{\\left(3 x \\right)}}{27}$ </p>\n </li>\n </ol>\n <p>The result is:  $\\frac{x^{2} y^{2}}{2} - \\frac{x \\sin{\\left(3 x \\right)}}{9} - \\frac{2 \\cos{\\left(3 x \\right)}}{27}$ </p>\n </li>\n <li>\n <p>Add the constant of integration:</p>\n <p> $\\frac{x^{2} y^{2}}{2} - \\frac{x \\sin{\\left(3 x \\right)}}{9} - \\frac{2 \\cos{\\left(3 x \\right)}}{27}+ \\mathrm{constant}$ </p>\n </li>\n</ol>\n<hr/>\n <p>The answer is:</p>\n <p> $\\frac{x^{2} y^{2}}{2} - \\frac{x \\sin{\\left(3 x \\right)}}{9} - \\frac{2 \\cos{\\left(3 x \\right)}}{27}+ \\mathrm{constant}$ </p>",
            "text/plain": [
              "<IPython.core.display.Markdown object>"
            ]
          },
          "metadata": {
            "tags": []
          }
        }
      ]
    },
    {
      "cell_type": "code",
      "metadata": {
        "colab": {
          "base_uri": "https://localhost:8080/",
          "height": 131
        },
        "id": "GUh_mc9aIT9U",
        "outputId": "bec01afe-e981-4fbd-e3c0-9ef0a5abdfec"
      },
      "source": [
        "sym.init_printing()\n",
        "x,y,z = sym.symbols('x,y,z')\n",
        "c1 = sym.Symbol('c1')\n",
        "f = sym.Eq(2*x**2+y+z,1)\n",
        "g = sym.Eq(x+2*y+z,c1)\n",
        "h = sym.Eq(-2*x+y,-z)\n",
        "\n",
        "printeq(f)\n",
        "printeq(g)\n",
        "printeq(h)\n",
        "\n",
        "\n",
        "\n",
        "sym.solve([f,g,h],(x,y,z))"
      ],
      "execution_count": 6,
      "outputs": [
        {
          "output_type": "display_data",
          "data": {
            "text/latex": "2 x^{2} + y + z = 1",
            "text/plain": [
              "<IPython.core.display.Latex object>"
            ]
          },
          "metadata": {
            "tags": []
          }
        },
        {
          "output_type": "display_data",
          "data": {
            "text/latex": "x + 2 y + z = c_{1}",
            "text/plain": [
              "<IPython.core.display.Latex object>"
            ]
          },
          "metadata": {
            "tags": []
          }
        },
        {
          "output_type": "display_data",
          "data": {
            "text/latex": "- 2 x + y = - z",
            "text/plain": [
              "<IPython.core.display.Latex object>"
            ]
          },
          "metadata": {
            "tags": []
          }
        },
        {
          "output_type": "execute_result",
          "data": {
            "image/png": "[encoded data removed]",
            "text/latex": "$\\displaystyle \\left[ \\left( - \\frac{1}{2} + \\frac{\\sqrt{3}}{2}, \\  c_{1} - \\frac{3 \\sqrt{3}}{2} + \\frac{3}{2}, \\  - c_{1} - \\frac{5}{2} + \\frac{5 \\sqrt{3}}{2}\\right), \\  \\left( - \\frac{\\sqrt{3}}{2} - \\frac{1}{2}, \\  c_{1} + \\frac{3}{2} + \\frac{3 \\sqrt{3}}{2}, \\  - c_{1} - \\frac{5 \\sqrt{3}}{2} - \\frac{5}{2}\\right)\\right]$",
            "text/plain": [
              "⎡⎛  1   √3       3⋅√3   3        5   5⋅√3⎞  ⎛  √3   1       3   3⋅√3        5⋅\n",
              "⎢⎜- ─ + ──, c₁ - ──── + ─, -c₁ - ─ + ────⎟, ⎜- ── - ─, c₁ + ─ + ────, -c₁ - ──\n",
              "⎣⎝  2   2         2     2        2    2  ⎠  ⎝  2    2       2    2           2\n",
              "\n",
              "√3   5⎞⎤\n",
              "── - ─⎟⎥\n",
              "     2⎠⎦"
            ]
          },
          "metadata": {
            "tags": []
          },
          "execution_count": 6
        }
      ]
    }
  ]
}